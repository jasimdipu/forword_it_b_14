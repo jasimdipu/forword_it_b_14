{
 "cells": [
  {
   "cell_type": "code",
   "execution_count": 1,
   "id": "06e0a552",
   "metadata": {},
   "outputs": [],
   "source": [
    "def function_1():\n",
    "    for i in range(10):\n",
    "        print(i)"
   ]
  },
  {
   "cell_type": "code",
   "execution_count": 2,
   "id": "e56d0df9",
   "metadata": {},
   "outputs": [
    {
     "name": "stdout",
     "output_type": "stream",
     "text": [
      "0\n",
      "1\n",
      "2\n",
      "3\n",
      "4\n",
      "5\n",
      "6\n",
      "7\n",
      "8\n",
      "9\n"
     ]
    }
   ],
   "source": [
    "function_1()"
   ]
  },
  {
   "cell_type": "code",
   "execution_count": 6,
   "id": "6fe62c12",
   "metadata": {},
   "outputs": [
    {
     "name": "stdout",
     "output_type": "stream",
     "text": [
      "This is function 2\n"
     ]
    }
   ],
   "source": [
    "def function_2():\n",
    "    print(\"This is function 2\")\n",
    "function_2()"
   ]
  },
  {
   "cell_type": "code",
   "execution_count": 7,
   "id": "d06448f5",
   "metadata": {},
   "outputs": [
    {
     "name": "stdout",
     "output_type": "stream",
     "text": [
      "This is function 2\n"
     ]
    }
   ],
   "source": [
    "function_2()"
   ]
  },
  {
   "cell_type": "code",
   "execution_count": 8,
   "id": "2e37791b",
   "metadata": {},
   "outputs": [],
   "source": [
    "def summation():\n",
    "    print(100+200)"
   ]
  },
  {
   "cell_type": "code",
   "execution_count": 9,
   "id": "2ba7518d",
   "metadata": {},
   "outputs": [
    {
     "name": "stdout",
     "output_type": "stream",
     "text": [
      "300\n"
     ]
    }
   ],
   "source": [
    "summation()"
   ]
  },
  {
   "cell_type": "code",
   "execution_count": 10,
   "id": "e39e5ed3",
   "metadata": {},
   "outputs": [],
   "source": [
    "def summation():\n",
    "    a = 10\n",
    "    b = 20\n",
    "    \n",
    "    res = a+b\n",
    "    return res"
   ]
  },
  {
   "cell_type": "code",
   "execution_count": 11,
   "id": "d1ee23ad",
   "metadata": {},
   "outputs": [
    {
     "data": {
      "text/plain": [
       "30"
      ]
     },
     "execution_count": 11,
     "metadata": {},
     "output_type": "execute_result"
    }
   ],
   "source": [
    "summation()"
   ]
  },
  {
   "cell_type": "code",
   "execution_count": 12,
   "id": "69c40366",
   "metadata": {},
   "outputs": [],
   "source": [
    "def getnumber():\n",
    "    print(100)"
   ]
  },
  {
   "cell_type": "code",
   "execution_count": 13,
   "id": "d8b0348d",
   "metadata": {},
   "outputs": [
    {
     "name": "stdout",
     "output_type": "stream",
     "text": [
      "100\n"
     ]
    }
   ],
   "source": [
    "getnumber()"
   ]
  },
  {
   "cell_type": "code",
   "execution_count": 15,
   "id": "7a882ec5",
   "metadata": {},
   "outputs": [
    {
     "data": {
      "text/plain": [
       "130"
      ]
     },
     "execution_count": 15,
     "metadata": {},
     "output_type": "execute_result"
    }
   ],
   "source": [
    "summation()+100"
   ]
  },
  {
   "cell_type": "code",
   "execution_count": 16,
   "id": "db0f71a6",
   "metadata": {},
   "outputs": [
    {
     "name": "stdout",
     "output_type": "stream",
     "text": [
      "100\n"
     ]
    },
    {
     "ename": "TypeError",
     "evalue": "unsupported operand type(s) for +: 'NoneType' and 'int'",
     "output_type": "error",
     "traceback": [
      "\u001b[1;31m---------------------------------------------------------------------------\u001b[0m",
      "\u001b[1;31mTypeError\u001b[0m                                 Traceback (most recent call last)",
      "\u001b[1;32m<ipython-input-16-1815cf579264>\u001b[0m in \u001b[0;36m<module>\u001b[1;34m\u001b[0m\n\u001b[1;32m----> 1\u001b[1;33m \u001b[0mgetnumber\u001b[0m\u001b[1;33m(\u001b[0m\u001b[1;33m)\u001b[0m\u001b[1;33m+\u001b[0m\u001b[1;36m100\u001b[0m\u001b[1;33m\u001b[0m\u001b[1;33m\u001b[0m\u001b[0m\n\u001b[0m",
      "\u001b[1;31mTypeError\u001b[0m: unsupported operand type(s) for +: 'NoneType' and 'int'"
     ]
    }
   ],
   "source": [
    "getnumber()+100"
   ]
  },
  {
   "cell_type": "code",
   "execution_count": 17,
   "id": "ca0168f1",
   "metadata": {},
   "outputs": [],
   "source": [
    "def getname():\n",
    "    return \"tuhin\""
   ]
  },
  {
   "cell_type": "code",
   "execution_count": 19,
   "id": "bceb7bc6",
   "metadata": {},
   "outputs": [
    {
     "data": {
      "text/plain": [
       "'tuhintuhin'"
      ]
     },
     "execution_count": 19,
     "metadata": {},
     "output_type": "execute_result"
    }
   ],
   "source": [
    "getname()*2"
   ]
  },
  {
   "cell_type": "code",
   "execution_count": 20,
   "id": "4123ecaa",
   "metadata": {},
   "outputs": [],
   "source": [
    "def getnumber(number):\n",
    "    return number"
   ]
  },
  {
   "cell_type": "code",
   "execution_count": 23,
   "id": "979f1020",
   "metadata": {},
   "outputs": [
    {
     "data": {
      "text/plain": [
       "1000"
      ]
     },
     "execution_count": 23,
     "metadata": {},
     "output_type": "execute_result"
    }
   ],
   "source": [
    "getnumber(1000)"
   ]
  },
  {
   "cell_type": "code",
   "execution_count": 24,
   "id": "4b44df1c",
   "metadata": {},
   "outputs": [],
   "source": [
    "def summation(num1, num2):\n",
    "    return num1+num2"
   ]
  },
  {
   "cell_type": "code",
   "execution_count": 25,
   "id": "37f863fd",
   "metadata": {},
   "outputs": [
    {
     "data": {
      "text/plain": [
       "300"
      ]
     },
     "execution_count": 25,
     "metadata": {},
     "output_type": "execute_result"
    }
   ],
   "source": [
    "summation(100, 200)"
   ]
  },
  {
   "cell_type": "code",
   "execution_count": null,
   "id": "7046f4af",
   "metadata": {},
   "outputs": [],
   "source": []
  }
 ],
 "metadata": {
  "kernelspec": {
   "display_name": "Python 3",
   "language": "python",
   "name": "python3"
  },
  "language_info": {
   "codemirror_mode": {
    "name": "ipython",
    "version": 3
   },
   "file_extension": ".py",
   "mimetype": "text/x-python",
   "name": "python",
   "nbconvert_exporter": "python",
   "pygments_lexer": "ipython3",
   "version": "3.8.8"
  }
 },
 "nbformat": 4,
 "nbformat_minor": 5
}
